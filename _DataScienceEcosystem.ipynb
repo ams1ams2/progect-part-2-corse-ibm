{
 "cells": [
  {
   "cell_type": "markdown",
   "id": "df571b82-1348-4dae-b8c8-173faf00e835",
   "metadata": {},
   "source": [
    "Data Science Tools and Ecosystem"
   ]
  },
  {
   "cell_type": "markdown",
   "id": "fde9a3a1-0b96-4161-90ad-5185e1d7da88",
   "metadata": {
    "tags": []
   },
   "source": [
    "In this notebook, Data Science Tools and Ecosystem are summarized."
   ]
  },
  {
   "cell_type": "markdown",
   "id": "b3f05258-b9f8-4ed5-a76b-596ec64c1b08",
   "metadata": {},
   "source": [
    "List popular languages for Data Science:-\n",
    "- List common languages of data science.\n",
    "- Provide examples of arithmetic expressions.\n",
    "- Review of data science tools."
   ]
  },
  {
   "cell_type": "markdown",
   "id": "3f68363f-85a1-402a-93ac-70e7f86d4149",
   "metadata": {
    "tags": []
   },
   "source": [
    "Some of the popular languages that Data Scientists use are:\n",
    "1.Python \n",
    "2.R \n",
    "3.SQL \n",
    "4.Julia \n",
    "5.Java"
   ]
  },
  {
   "cell_type": "markdown",
   "id": "8b1e9a72-4602-440a-b2dc-9fa72ce74ecc",
   "metadata": {},
   "source": [
    "Some of the commonly used libraries used by Data Scientists include:\n",
    "1.Pandas\n",
    "2.Numpy\n",
    "3.Matplotlib"
   ]
  },
  {
   "cell_type": "markdown",
   "id": "73d0dbf7-c68b-49ca-8dd6-ade9db30178d",
   "metadata": {},
   "source": [
    "| Data Science Tools |\n",
    "|--------------------|\n",
    "| Jupyter Notebook   |\n",
    "| RStudio            |\n",
    "| Python IDE         |"
   ]
  },
  {
   "cell_type": "markdown",
   "id": "584102b5-9d45-4326-8a74-b5f3c5e4d2aa",
   "metadata": {},
   "source": [
    "### Below are a few examples of evaluating arithmetic expressions in Python."
   ]
  },
  {
   "cell_type": "markdown",
   "id": "386764e4-f1d3-4013-a35f-89f7e9ef75c0",
   "metadata": {},
   "source": [
    "\n"
   ]
  },
  {
   "cell_type": "markdown",
   "id": "c97079fe-68a1-400b-ae7a-98c562bb3b92",
   "metadata": {},
   "source": [
    " This a simple arithmetic expression to mutiply then add integers\n"
   ]
  },
  {
   "cell_type": "code",
   "execution_count": 2,
   "id": "d2ba1360-803d-4429-94c4-837e9d95779e",
   "metadata": {
    "tags": []
   },
   "outputs": [
    {
     "data": {
      "text/plain": [
       "17"
      ]
     },
     "execution_count": 2,
     "metadata": {},
     "output_type": "execute_result"
    }
   ],
   "source": [
    "(3*4)+5"
   ]
  },
  {
   "cell_type": "markdown",
   "id": "9b9a8444-0ae3-4403-87f1-79c760b9dc21",
   "metadata": {},
   "source": [
    "This will convert 200 minutes to hours by diving by 60"
   ]
  },
  {
   "cell_type": "code",
   "execution_count": 3,
   "id": "44ec24e4-6433-49f8-b444-ab7f1d55c759",
   "metadata": {
    "tags": []
   },
   "outputs": [
    {
     "data": {
      "text/plain": [
       "3.3333333333333335"
      ]
     },
     "execution_count": 3,
     "metadata": {},
     "output_type": "execute_result"
    }
   ],
   "source": [
    "hours = 200 / 60\n",
    "hours"
   ]
  },
  {
   "cell_type": "markdown",
   "id": "da8b7e99-1865-474c-8ac3-f3c8c509f7c0",
   "metadata": {},
   "source": [
    "## Author\n",
    "Dhyaa Sbie"
   ]
  },
  {
   "cell_type": "code",
   "execution_count": null,
   "id": "17386cba-18a5-4360-9757-a446fc285c3d",
   "metadata": {},
   "outputs": [],
   "source": []
  }
 ],
 "metadata": {
  "kernelspec": {
   "display_name": "Python 3 (ipykernel)",
   "language": "python",
   "name": "python3"
  },
  "language_info": {
   "codemirror_mode": {
    "name": "ipython",
    "version": 3
   },
   "file_extension": ".py",
   "mimetype": "text/x-python",
   "name": "python",
   "nbconvert_exporter": "python",
   "pygments_lexer": "ipython3",
   "version": "3.11.5"
  }
 },
 "nbformat": 4,
 "nbformat_minor": 5
}
